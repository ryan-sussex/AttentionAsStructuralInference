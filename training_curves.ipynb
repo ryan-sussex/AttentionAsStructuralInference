{
 "cells": [
  {
   "cell_type": "code",
   "execution_count": 70,
   "metadata": {},
   "outputs": [],
   "source": [
    "import plotly.graph_objects as go\n",
    "import plotly.io as pio\n",
    "pio.renderers.default = \"browser\"\n",
    "\n",
    "import json\n"
   ]
  },
  {
   "cell_type": "code",
   "execution_count": 53,
   "metadata": {},
   "outputs": [],
   "source": [
    "with open(\"training.json\", mode=\"r\") as f:\n",
    "    training_history = json.load(f)"
   ]
  },
  {
   "cell_type": "code",
   "execution_count": 54,
   "metadata": {},
   "outputs": [],
   "source": [
    "start = 0"
   ]
  },
  {
   "cell_type": "code",
   "execution_count": 55,
   "metadata": {},
   "outputs": [],
   "source": [
    "fig = go.Figure(\n",
    "    data=[\n",
    "        go.Scatter(x=list(range(start, len(training_history[\"standard\"]))), y=training_history[\"standard\"][start:], name=\"standard\"),\n",
    "        go.Scatter(x=list(range(start, len(training_history[\"standard\"]))), y=training_history[\"long\"][start:], name=\"long\"),\n",
    "    ]\n",
    ")\n",
    "# fig.add_trace(\n",
    "\n",
    "# )"
   ]
  },
  {
   "cell_type": "code",
   "execution_count": 56,
   "metadata": {},
   "outputs": [],
   "source": [
    "fig.show()"
   ]
  },
  {
   "cell_type": "code",
   "execution_count": 109,
   "metadata": {},
   "outputs": [],
   "source": [
    "with open(\"train_history_standard.json\", mode=\"r\") as f:\n",
    "    shakespeare_standard = json.load(f)\n",
    "# with open(\"train_history_long.json\", mode=\"r\") as f:\n",
    "#     shakespeare_long = json.load(f)\n",
    "with open(\"train_history_parameterised.json\", mode=\"r\") as f:\n",
    "    shakespeare_mixed = json.load(f)\n"
   ]
  },
  {
   "cell_type": "code",
   "execution_count": 110,
   "metadata": {},
   "outputs": [],
   "source": [
    "fig = go.Figure(\n",
    "    data=[\n",
    "        go.Scatter(x=list(range(start, len(shakespeare_standard[\"train_loss\"]))), y=shakespeare_standard[\"train_loss\"][start:], name=\"standard\"),\n",
    "        # go.Scatter(x=list(range(start, len(shakespeare_long[\"train_loss\"]))), y=shakespeare_long[\"train_loss\"][start:], name=\"long\"),\n",
    "        go.Scatter(x=list(range(start, len(shakespeare_mixed[\"train_loss\"]))), y=shakespeare_mixed[\"train_loss\"][start:], name=\"parameterised\"),\n",
    "    ]\n",
    ")\n"
   ]
  },
  {
   "cell_type": "code",
   "execution_count": 111,
   "metadata": {},
   "outputs": [],
   "source": [
    "fig.show()"
   ]
  },
  {
   "cell_type": "code",
   "execution_count": null,
   "metadata": {},
   "outputs": [],
   "source": []
  }
 ],
 "metadata": {
  "kernelspec": {
   "display_name": "venv",
   "language": "python",
   "name": "python3"
  },
  "language_info": {
   "codemirror_mode": {
    "name": "ipython",
    "version": 3
   },
   "file_extension": ".py",
   "mimetype": "text/x-python",
   "name": "python",
   "nbconvert_exporter": "python",
   "pygments_lexer": "ipython3",
   "version": "3.8.10"
  },
  "orig_nbformat": 4
 },
 "nbformat": 4,
 "nbformat_minor": 2
}
